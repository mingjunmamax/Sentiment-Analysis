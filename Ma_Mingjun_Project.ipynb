{
 "cells": [
  {
   "cell_type": "code",
   "execution_count": 1,
   "metadata": {},
   "outputs": [],
   "source": [
    "import pandas as pd\n",
    "import numpy as np\n",
    "from wordcloud import WordCloud\n",
    "from nltk.tokenize import sent_tokenize, word_tokenize\n",
    "from nltk.corpus import stopwords\n",
    "from sklearn.feature_extraction.text import TfidfVectorizer, CountVectorizer\n",
    "import string\n",
    "import re\n",
    "from nltk.stem import PorterStemmer\n",
    "from cleantext import clean\n",
    "from sklearn.model_selection import train_test_split\n",
    "import matplotlib.pyplot as plt\n",
    "import seaborn as sns"
   ]
  },
  {
   "cell_type": "code",
   "execution_count": 2,
   "metadata": {},
   "outputs": [],
   "source": [
    "def percentage(data_n, class_n = 3):\n",
    "    # Source: https://www.geeksforgeeks.org/display-percentage-above-bar-chart-in-matplotlib/ \n",
    "    counts = {\"negative\": len(data_n[data_n['airline_sentiment']==\"negative\"]), \"positive\": len(data_n[data_n['airline_sentiment']==\"positive\"]), \"neutral\": len(data_n[data_n['airline_sentiment']==\"neutral\"])}\n",
    "    if class_n==2:\n",
    "        counts = {\"negative\": len(data_n[data_n['airline_sentiment']==\"negative\"]), \"non-negative\": len(data_n[data_n['airline_sentiment']!=\"negative\"])}\n",
    "    percent = [str(round(e/sum(list(counts.values()))*100, 2)) + \"%\" for e in list(counts.values())]\n",
    "    plt.figure(figsize=(8,8))\n",
    "    graph = plt.bar(list(counts.keys()), list(counts.values()))\n",
    "    plt.title('Distribution of labels')\n",
    "    i = 0\n",
    "    for g in graph:\n",
    "        height = g.get_height()\n",
    "        width = g.get_width()\n",
    "        x, y = g.get_xy()\n",
    "        plt.text(x + width/2, y + height, percent[i], ha='center', weight='bold')\n",
    "        i += 1\n",
    "    print(counts)\n",
    "    return counts\n",
    "def text_class(comment):\n",
    "    if comment == \"negative\":\n",
    "        return 1\n",
    "    else:\n",
    "        return 0\n",
    "    "
   ]
  },
  {
   "cell_type": "code",
   "execution_count": 3,
   "metadata": {},
   "outputs": [],
   "source": [
    "def text_cleaning(data):\n",
    "    # Step 1 clean emoji \n",
    "    # Source: https://www.educative.io/answers/how-to-remove-emoji-from-the-text-in-python\n",
    "    data = clean(data, no_emoji=True)\n",
    "    # Step 2 lower-case \n",
    "    data = data.lower()\n",
    "    return data"
   ]
  },
  {
   "attachments": {},
   "cell_type": "markdown",
   "metadata": {},
   "source": [
    "Reading the file "
   ]
  },
  {
   "cell_type": "code",
   "execution_count": 21,
   "metadata": {},
   "outputs": [
    {
     "name": "stdout",
     "output_type": "stream",
     "text": [
      "airline_sentiment    0\n",
      "text                 0\n",
      "dtype: int64\n"
     ]
    }
   ],
   "source": [
    "data = pd.read_csv(\"Tweets.csv\")\n",
    "data_n = data.copy(deep = True)\n",
    "data_n = data_n[['airline_sentiment', \"text\"]]\n",
    "print(data_n.isnull().sum())"
   ]
  },
  {
   "cell_type": "code",
   "execution_count": 22,
   "metadata": {},
   "outputs": [
    {
     "name": "stdout",
     "output_type": "stream",
     "text": [
      "@VirginAmerica What @dhepburn said.\n",
      "Sentiment: neutral \n",
      "\n",
      "@VirginAmerica plus you've added commercials to the experience... tacky.\n",
      "Sentiment: positive \n",
      "\n",
      "@VirginAmerica I didn't today... Must mean I need to take another trip!\n",
      "Sentiment: neutral \n",
      "\n",
      "@VirginAmerica it's really aggressive to blast obnoxious \"entertainment\" in your guests' faces &amp; they have little recourse\n",
      "Sentiment: negative \n",
      "\n",
      "@VirginAmerica and it's a really big bad thing about it\n",
      "Sentiment: negative \n",
      "\n",
      "@VirginAmerica seriously would pay $30 a flight for seats that didn't have this playing.\n",
      "it's really the only bad thing about flying VA\n",
      "Sentiment: negative \n",
      "\n"
     ]
    }
   ],
   "source": [
    "for i, e in enumerate(data_n.values):\n",
    "    print(e[1])\n",
    "    print(\"Sentiment:\",e[0], \"\\n\")\n",
    "    if i==5:\n",
    "        break"
   ]
  },
  {
   "cell_type": "code",
   "execution_count": 23,
   "metadata": {},
   "outputs": [],
   "source": [
    "data_n['text'] = text_cleaning(data_n['text'])"
   ]
  },
  {
   "cell_type": "code",
   "execution_count": 24,
   "metadata": {},
   "outputs": [
    {
     "name": "stdout",
     "output_type": "stream",
     "text": [
      "{'negative': 9178, 'positive': 2363, 'neutral': 3099}\n"
     ]
    },
    {
     "data": {
      "image/png": "[encoded data removed]",
      "text/plain": [
       "<Figure size 576x576 with 1 Axes>"
      ]
     },
     "metadata": {
      "needs_background": "light"
     },
     "output_type": "display_data"
    }
   ],
   "source": [
    "counts_before = percentage(data_n, class_n = 3)"
   ]
  },
  {
   "cell_type": "code",
   "execution_count": 25,
   "metadata": {},
   "outputs": [],
   "source": [
    "data_else = data_n[data_n['airline_sentiment']!=\"negative\"]"
   ]
  },
  {
   "cell_type": "code",
   "execution_count": 26,
   "metadata": {},
   "outputs": [],
   "source": [
    "data_negative = data_n[data_n['airline_sentiment']==\"negative\"]"
   ]
  },
  {
   "cell_type": "code",
   "execution_count": 27,
   "metadata": {},
   "outputs": [
    {
     "name": "stdout",
     "output_type": "stream",
     "text": [
      "{'negative': 6425, 'non-negative': 5462}\n"
     ]
    },
    {
     "data": {
      "image/png": "[encoded data removed]",
      "text/plain": [
       "<Figure size 576x576 with 1 Axes>"
      ]
     },
     "metadata": {
      "needs_background": "light"
     },
     "output_type": "display_data"
    }
   ],
   "source": [
    "data_negative = data_negative.sample(frac = 0.7, replace = False)\n",
    "data_n = pd.concat([data_negative, data_else])\n",
    "data_n =data_n.reset_index()\n",
    "data_n.drop([\"index\"], axis = 1, inplace = True)\n",
    "counts_now = percentage(data_n, 2)"
   ]
  },
  {
   "cell_type": "markdown",
   "metadata": {},
   "source": [
    "text classification"
   ]
  },
  {
   "cell_type": "code",
   "execution_count": 28,
   "metadata": {},
   "outputs": [],
   "source": [
    "data_n[\"label\"] = \"\"\n",
    "data_n[\"label\"] = data_n[\"airline_sentiment\"].apply(text_class)\n",
    "data_n = data_n[['label', 'text']]"
   ]
  },
  {
   "cell_type": "code",
   "execution_count": 29,
   "metadata": {},
   "outputs": [
    {
     "name": "stdout",
     "output_type": "stream",
     "text": [
      "label    0\n",
      "text     0\n",
      "dtype: int64\n"
     ]
    }
   ],
   "source": [
    "print(data_n.isnull().sum())"
   ]
  },
  {
   "cell_type": "markdown",
   "metadata": {},
   "source": [
    "Preparing for Bert Model"
   ]
  },
  {
   "cell_type": "code",
   "execution_count": 30,
   "metadata": {},
   "outputs": [],
   "source": [
    "train, test, =  train_test_split(data_n, test_size=0.05)"
   ]
  },
  {
   "cell_type": "code",
   "execution_count": 31,
   "metadata": {},
   "outputs": [
    {
     "name": "stdout",
     "output_type": "stream",
     "text": [
      "For training dataset\n",
      "label    0\n",
      "text     0\n",
      "dtype: int64\n",
      "For testing dataset\n",
      "label    0\n",
      "text     0\n",
      "dtype: int64\n"
     ]
    }
   ],
   "source": [
    "print(\"For training dataset\")\n",
    "print(train.isnull().sum())\n",
    "print(\"For testing dataset\")\n",
    "print(test.isnull().sum())"
   ]
  },
  {
   "cell_type": "code",
   "execution_count": 32,
   "metadata": {},
   "outputs": [],
   "source": [
    "x_train = train['text']\n",
    "y_train = train['label']"
   ]
  },
  {
   "cell_type": "code",
   "execution_count": 34,
   "metadata": {},
   "outputs": [],
   "source": [
    "x_test = test['text']\n",
    "y_test = test['label']\n"
   ]
  },
  {
   "cell_type": "markdown",
   "metadata": {},
   "source": [
    "Bert Model"
   ]
  },
  {
   "attachments": {},
   "cell_type": "markdown",
   "metadata": {},
   "source": [
    "Source: https://pub.towardsai.net/fake-news-detection-using-bert-model-python-de005c5809ed"
   ]
  },
  {
   "cell_type": "code",
   "execution_count": 35,
   "metadata": {},
   "outputs": [
    {
     "name": "stderr",
     "output_type": "stream",
     "text": [
      "2023-05-03 15:33:38.239232: I tensorflow/core/platform/cpu_feature_guard.cc:182] This TensorFlow binary is optimized to use available CPU instructions in performance-critical operations.\n",
      "To enable the following instructions: AVX2 AVX512F AVX512_VNNI FMA, in other operations, rebuild TensorFlow with the appropriate compiler flags.\n",
      "/Users/maxma/opt/anaconda3/lib/python3.8/site-packages/tensorflow_addons/utils/tfa_eol_msg.py:23: UserWarning: \n",
      "\n",
      "TensorFlow Addons (TFA) has ended development and introduction of new features.\n",
      "TFA has entered a minimal maintenance and release mode until a planned end of life in May 2024.\n",
      "Please modify downstream libraries to take dependencies from other repositories in our TensorFlow community (e.g. Keras, Keras-CV, and Keras-NLP). \n",
      "\n",
      "For more information see: https://github.com/tensorflow/addons/issues/2807 \n",
      "\n",
      "  warnings.warn(\n"
     ]
    }
   ],
   "source": [
    "import tensorflow as tf\n",
    "import tensorflow_hub as hub\n",
    "import tensorflow_text as text\n",
    "from official.nlp import optimization\n",
    "from keras.optimizers import Adam\n",
    "from transformers import TFBertModel\n",
    "import os\n",
    "import shutil\n",
    "from keras.models import  Model, Sequential\n",
    "from keras.layers import Input, Dense, Dropout, Embedding\n"
   ]
  },
  {
   "cell_type": "code",
   "execution_count": 36,
   "metadata": {},
   "outputs": [],
   "source": [
    "import torch\n",
    "from torch.utils.data import TensorDataset\n",
    "from transformers import AutoTokenizer, AutoModelForQuestionAnswering, BertTokenizer\n",
    "\n",
    "tokenizer = AutoTokenizer.from_pretrained('bert-base-uncased')"
   ]
  },
  {
   "cell_type": "code",
   "execution_count": 37,
   "metadata": {},
   "outputs": [],
   "source": [
    "from transformers import TFBertModel"
   ]
  },
  {
   "cell_type": "code",
   "execution_count": 38,
   "metadata": {},
   "outputs": [],
   "source": [
    "# Source: https://pub.towardsai.net/fake-news-detection-using-bert-model-python-de005c5809ed\n",
    "x_train_tokens =  tokenizer(\n",
    "        text = list(x_train),\n",
    "        add_special_tokens = True,\n",
    "        max_length = 100,\n",
    "        truncation = True,\n",
    "        padding = 'max_length',\n",
    "        return_tensors = 'tf',\n",
    "        return_token_type_ids = False,\n",
    "        return_attention_mask = True,\n",
    "        verbose = True\n",
    "        )"
   ]
  },
  {
   "cell_type": "code",
   "execution_count": 39,
   "metadata": {},
   "outputs": [],
   "source": [
    "# Source: https://pub.towardsai.net/fake-news-detection-using-bert-model-python-de005c5809ed\n",
    "x_test_tokens = tokenizer(\n",
    "        text = list(x_test),\n",
    "        add_special_tokens = True,\n",
    "        max_length = 100,\n",
    "        truncation = True,\n",
    "        padding = 'max_length',\n",
    "        return_tensors = 'tf',\n",
    "        return_token_type_ids = False,\n",
    "        return_attention_mask = True,\n",
    "        verbose = True\n",
    "        )"
   ]
  },
  {
   "cell_type": "code",
   "execution_count": 40,
   "metadata": {},
   "outputs": [
    {
     "name": "stderr",
     "output_type": "stream",
     "text": [
      "Some layers from the model checkpoint at bert-base-uncased were not used when initializing TFBertModel: ['nsp___cls', 'mlm___cls']\n",
      "- This IS expected if you are initializing TFBertModel from the checkpoint of a model trained on another task or with another architecture (e.g. initializing a BertForSequenceClassification model from a BertForPreTraining model).\n",
      "- This IS NOT expected if you are initializing TFBertModel from the checkpoint of a model that you expect to be exactly identical (initializing a BertForSequenceClassification model from a BertForSequenceClassification model).\n",
      "All the layers of TFBertModel were initialized from the model checkpoint at bert-base-uncased.\n",
      "If your task is similar to the task the model of the checkpoint was trained on, you can already use TFBertModel for predictions without further training.\n"
     ]
    }
   ],
   "source": [
    "# Source: https://pub.towardsai.net/fake-news-detection-using-bert-model-python-de005c5809ed\n",
    "bert = TFBertModel.from_pretrained('bert-base-uncased')"
   ]
  },
  {
   "cell_type": "code",
   "execution_count": 41,
   "metadata": {},
   "outputs": [],
   "source": [
    "# Source: https://pub.towardsai.net/fake-news-detection-using-bert-model-python-de005c5809ed\n",
    "def bert_model(bert, n_layer = 64, dropout_rate = 0.2, length = 100):\n",
    "    input_ids = Input(shape = (length,), dtype = tf.int32, name = 'input_ids')\n",
    "    input_mask = Input(shape = (length,), dtype = tf.int32, name = 'input_mask')\n",
    "    embeddings = bert([input_ids, input_mask])[1] #pooler output\n",
    "    print(embeddings)\n",
    "    out = Dropout(dropout_rate)(embeddings)\n",
    "    out = Dense(n_layer,activation = 'relu')(out)\n",
    "    out = Dropout(dropout_rate)(out)\n",
    "    y = Dense(1,activation = 'sigmoid')(out)\n",
    "    model = Model(inputs=[input_ids, input_mask], outputs=y)\n",
    "    model.layers[2].trainable = True\n",
    "    optimizer = Adam(learning_rate=9*10**-6, epsilon=10**-8, decay=0.01,clipnorm=1.0)\n",
    "    model.compile(optimizer = optimizer, loss = 'binary_crossentropy', metrics = 'accuracy')\n",
    "    return model"
   ]
  },
  {
   "cell_type": "code",
   "execution_count": 42,
   "metadata": {},
   "outputs": [
    {
     "name": "stdout",
     "output_type": "stream",
     "text": [
      "KerasTensor(type_spec=TensorSpec(shape=(None, 768), dtype=tf.float32, name=None), name='tf_bert_model/bert/pooler/dense/Tanh:0', description=\"created by layer 'tf_bert_model'\")\n"
     ]
    }
   ],
   "source": [
    "# Source: https://pub.towardsai.net/fake-news-detection-using-bert-model-python-de005c5809ed\n",
    "form_bert_model = bert_model(bert)"
   ]
  },
  {
   "cell_type": "code",
   "execution_count": 43,
   "metadata": {},
   "outputs": [
    {
     "name": "stdout",
     "output_type": "stream",
     "text": [
      "71/71 [==============================] - 3956s 55s/step - loss: 0.7167 - accuracy: 0.5063 - val_loss: 0.6925 - val_accuracy: 0.5317\n"
     ]
    }
   ],
   "source": [
    "from keras.callbacks import EarlyStopping\n",
    "history = form_bert_model.fit(x = {'input_ids':x_train_tokens[\"input_ids\"],\n",
    "                                   'input_mask':x_train_tokens['attention_mask']}, \n",
    "                                   y = y_train, epochs= 1, validation_split = 0.2, \n",
    "                                   batch_size = 128, callbacks=[EarlyStopping(monitor='val_accuracy' ,mode='max', patience=3,verbose=False,restore_best_weights=True)])"
   ]
  },
  {
   "cell_type": "code",
   "execution_count": 44,
   "metadata": {},
   "outputs": [
    {
     "name": "stdout",
     "output_type": "stream",
     "text": [
      "19/19 [==============================] - 56s 3s/step\n"
     ]
    }
   ],
   "source": [
    "# Source: https://pub.towardsai.net/fake-news-detection-using-bert-model-python-de005c5809ed\n",
    "y_predict = np.where(form_bert_model.predict({ 'input_ids' : x_test_tokens['input_ids'] , 'input_mask' : x_test_tokens['attention_mask']}) >=0.5,1,0)"
   ]
  },
  {
   "cell_type": "markdown",
   "metadata": {},
   "source": [
    "Evaluation "
   ]
  },
  {
   "cell_type": "code",
   "execution_count": 45,
   "metadata": {},
   "outputs": [],
   "source": [
    "def evaluation(y_predict, y_test):\n",
    "    from sklearn.metrics import confusion_matrix\n",
    "    acc = np.mean(y_predict==y_test)\n",
    "    ccm = confusion_matrix(y_predict, y_test)\n",
    "    return {\"confusion matrix\": ccm, \"accuracy\": acc} "
   ]
  },
  {
   "cell_type": "code",
   "execution_count": 46,
   "metadata": {},
   "outputs": [],
   "source": [
    "eval = evaluation(y_predict, y_test.values)"
   ]
  },
  {
   "cell_type": "code",
   "execution_count": 47,
   "metadata": {},
   "outputs": [
    {
     "data": {
      "text/plain": [
       "{'confusion matrix': array([[  0,   0],\n",
       "        [255, 340]]),\n",
       " 'accuracy': 0.5714285714285714}"
      ]
     },
     "execution_count": 47,
     "metadata": {},
     "output_type": "execute_result"
    }
   ],
   "source": [
    "eval"
   ]
  },
  {
   "cell_type": "code",
   "execution_count": 48,
   "metadata": {},
   "outputs": [],
   "source": [
    "yhat = pd.DataFrame(y_predict)"
   ]
  },
  {
   "cell_type": "code",
   "execution_count": 49,
   "metadata": {},
   "outputs": [],
   "source": [
    "precision = eval['confusion matrix'][1][1]/(eval['confusion matrix'][1][1]+eval['confusion matrix'][1][0])\n",
    "recall = eval['confusion matrix'][1][1]/(eval['confusion matrix'][1][1]+eval['confusion matrix'][0][1])\n",
    "f1_score = 2*(precision*recall)/(precision+recall)"
   ]
  },
  {
   "cell_type": "code",
   "execution_count": 50,
   "metadata": {},
   "outputs": [
    {
     "name": "stdout",
     "output_type": "stream",
     "text": [
      "accuracy = 57.14 %, F-1 score =  72.73 %\n"
     ]
    }
   ],
   "source": [
    "print(\"accuracy =\",  round(eval['accuracy']*100, 2), \"%, F-1 score = \", round(f1_score*100, 2), \"%\")"
   ]
  }
 ],
 "metadata": {
  "kernelspec": {
   "display_name": "base",
   "language": "python",
   "name": "python3"
  },
  "language_info": {
   "codemirror_mode": {
    "name": "ipython",
    "version": 3
   },
   "file_extension": ".py",
   "mimetype": "text/x-python",
   "name": "python",
   "nbconvert_exporter": "python",
   "pygments_lexer": "ipython3",
   "version": "3.8.2"
  },
  "orig_nbformat": 4
 },
 "nbformat": 4,
 "nbformat_minor": 2
}
